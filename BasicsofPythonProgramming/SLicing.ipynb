{
  "nbformat": 4,
  "nbformat_minor": 0,
  "metadata": {
    "colab": {
      "provenance": [],
      "gpuType": "V28"
    },
    "kernelspec": {
      "name": "python3",
      "display_name": "Python 3"
    },
    "language_info": {
      "name": "python"
    },
    "accelerator": "TPU"
  },
  "cells": [
    {
      "cell_type": "code",
      "execution_count": null,
      "metadata": {
        "colab": {
          "base_uri": "https://localhost:8080/"
        },
        "id": "FDXkl1CeCgi6",
        "outputId": "a34e6b09-f068-4bbc-f391-417b9e4c09ad"
      },
      "outputs": [
        {
          "output_type": "stream",
          "name": "stdout",
          "text": [
            "enter the first number2.48\n",
            "enter the second number3.69\n",
            "addition of two given numbers:  6.17\n"
          ]
        }
      ],
      "source": [
        "  num1=float(input('enter the first number'))\n",
        "num2=float(input('enter the second number'))\n",
        "num3=num1+num2\n",
        "\n",
        "print('addition of two given numbers: ',num3)"
      ]
    },
    {
      "cell_type": "code",
      "source": [
        "# AREA OF CIRCLE\n",
        "\n",
        "\n",
        "pi=3.14\n",
        "r=float(input(\"please enter radius: \"))\n",
        "area=pi*r*r\n",
        "print('radius of circle:', area)"
      ],
      "metadata": {
        "id": "Jfctq1cIDQds",
        "colab": {
          "base_uri": "https://localhost:8080/"
        },
        "outputId": "44cb6851-ff77-4342-8888-c6a60cb7d0a5"
      },
      "execution_count": null,
      "outputs": [
        {
          "output_type": "stream",
          "name": "stdout",
          "text": [
            "please enter radius: 2.5\n",
            "radius of circle: 19.625\n"
          ]
        }
      ]
    },
    {
      "cell_type": "code",
      "source": [
        "# circumference OF CIRCLE\n",
        "\n",
        "\n",
        "pi=3.14\n",
        "r=float(input(\"please enter radius: \"))\n",
        "circumference=2*pi*r\n",
        "print('radius of circle:', circumference)"
      ],
      "metadata": {
        "colab": {
          "base_uri": "https://localhost:8080/"
        },
        "id": "yBID4nexDFqm",
        "outputId": "0f3fac95-5d44-47eb-9b6e-5bf32985088d"
      },
      "execution_count": null,
      "outputs": [
        {
          "output_type": "stream",
          "name": "stdout",
          "text": [
            "please enter radius: 2\n",
            "radius of circle: 12.56\n"
          ]
        }
      ]
    },
    {
      "cell_type": "code",
      "source": [
        "# F string method\n",
        "print(f'Circumference of circle is {circumference}mm')\n",
        "print(f'radius of circle {r}mm and Area of circle is {area}mm^2')"
      ],
      "metadata": {
        "colab": {
          "base_uri": "https://localhost:8080/"
        },
        "id": "-UKglb0ADoC7",
        "outputId": "5b8cf33e-02f2-40ef-cc45-01ebe310f745"
      },
      "execution_count": null,
      "outputs": [
        {
          "output_type": "stream",
          "name": "stdout",
          "text": [
            "Circumference of circle is 12.56mm\n",
            "radius of circle 2.0mm and Area of circle is 19.625mm^2\n"
          ]
        }
      ]
    },
    {
      "cell_type": "code",
      "source": [
        "str=\"hello\"\n",
        "str1=\"world\"\n",
        "str2=(str+' '+str1)\n",
        "print(str2)"
      ],
      "metadata": {
        "colab": {
          "base_uri": "https://localhost:8080/"
        },
        "id": "r3cjUZBhEukA",
        "outputId": "ef253dca-6a17-4a58-df74-d908dd9c5eea"
      },
      "execution_count": null,
      "outputs": [
        {
          "output_type": "stream",
          "name": "stdout",
          "text": [
            "hello world\n"
          ]
        }
      ]
    },
    {
      "cell_type": "code",
      "source": [
        "# string indexing\n",
        "\n",
        "St= 'Hello Welcome to WOrld of Python Programming'\n",
        "\n",
        "#String Slicing\n",
        "print(St[6])\n",
        "print(St[-10])\n",
        "print(St[2:9]) #without 9th\n",
        "print(St[:-1]) #without -1 total\n",
        "print(St[::2]) # start:stop:step\n",
        "print(St[::4]) # start:stop:step\n",
        "\n",
        "print(St[4:-4:2])\n",
        "\n",
        "print(St[::-1])\n",
        "\n"
      ],
      "metadata": {
        "colab": {
          "base_uri": "https://localhost:8080/"
        },
        "id": "f4VY1_z_F467",
        "outputId": "e2df8790-c00d-417a-f832-2cddecbb621f"
      },
      "execution_count": 2,
      "outputs": [
        {
          "output_type": "stream",
          "name": "stdout",
          "text": [
            "W\n",
            "r\n",
            "llo Wel\n",
            "Hello Welcome to WOrld of Python Programmin\n",
            "HloWloet Ol fPto rgamn\n",
            "Hole lft gm\n",
            "oWloet Ol fPto rga\n",
            "gnimmargorP nohtyP fo dlrOW ot emocleW olleH\n"
          ]
        }
      ]
    },
    {
      "cell_type": "code",
      "source": [
        "St= 'Hello Welcome to WOrld of Python Programming'\n",
        "print(St[::-1])\n",
        "print(St[::1])\n",
        "print(St[4:-4:-1]) #no output coz starting and nding is gone"
      ],
      "metadata": {
        "colab": {
          "base_uri": "https://localhost:8080/"
        },
        "id": "-Se_aZzvIcTG",
        "outputId": "07057215-3763-4873-f47f-9e7d53cad544"
      },
      "execution_count": 3,
      "outputs": [
        {
          "output_type": "stream",
          "name": "stdout",
          "text": [
            "gnimmargorP nohtyP fo dlrOW ot emocleW olleH\n",
            "Hello Welcome to WOrld of Python Programming\n",
            "\n"
          ]
        }
      ]
    },
    {
      "cell_type": "code",
      "source": [
        "# *List defination: n dimensional array*\n",
        "\n",
        "lst=[100,200,300,400]\n",
        "print(lst[2])\n",
        "print(lst[:-2])\n",
        "\n",
        "lst1=[100,200,300,400,[500,600,700,800,['Hi','Python','How']]]\n",
        "print(lst[:2])\n",
        "print(lst1[4][2])\n",
        "print(lst1[4][4][1]) #indexing [4] pe 400, [4] pe Hi, [1] Python"
      ],
      "metadata": {
        "colab": {
          "base_uri": "https://localhost:8080/"
        },
        "id": "3YF7bHfDN2Um",
        "outputId": "3cd66a29-a3b3-489b-d3d6-b076286b611b"
      },
      "execution_count": 35,
      "outputs": [
        {
          "output_type": "stream",
          "name": "stdout",
          "text": [
            "300\n",
            "[100, 200]\n",
            "[100, 200]\n",
            "700\n",
            "Python\n"
          ]
        }
      ]
    },
    {
      "cell_type": "code",
      "source": [],
      "metadata": {
        "id": "J4AcANXS4g40"
      },
      "execution_count": null,
      "outputs": []
    },
    {
      "cell_type": "code",
      "source": [
        "lst2=[100,[200,300,[10,20,400,500,'Hi',[500],200],400,456],78]\n",
        "print(lst2[1][2][4])\n",
        "print(lst2[1][2][5][0])\n",
        "print(lst2[-2][-2])"
      ],
      "metadata": {
        "colab": {
          "base_uri": "https://localhost:8080/"
        },
        "id": "PXy8S3RAN9Lb",
        "outputId": "90473480-fe38-4e55-8c9a-4147fd9eab54"
      },
      "execution_count": null,
      "outputs": [
        {
          "output_type": "stream",
          "name": "stdout",
          "text": [
            "Hi\n",
            "500\n",
            "400\n"
          ]
        }
      ]
    },
    {
      "cell_type": "code",
      "source": [
        "#1Apr2025\n",
        "\n",
        "lst=[]\n",
        "lst.append('Hello')\n",
        "lst.insert(1, 'Word')\n",
        "print(lst)\n",
        "\n",
        "print(lst)\n",
        "lst.remove('Hello')\n",
        "print(lst)\n",
        "lst.pop()"
      ],
      "metadata": {
        "id": "Z_tjNWW6S68A",
        "colab": {
          "base_uri": "https://localhost:8080/",
          "height": 90
        },
        "outputId": "f44a4d52-b325-4fa6-b233-cdd6fc989b7b"
      },
      "execution_count": 18,
      "outputs": [
        {
          "output_type": "stream",
          "name": "stdout",
          "text": [
            "['Hello', 'Word']\n",
            "['Hello', 'Word']\n",
            "['Word']\n"
          ]
        },
        {
          "output_type": "execute_result",
          "data": {
            "text/plain": [
              "'Word'"
            ],
            "application/vnd.google.colaboratory.intrinsic+json": {
              "type": "string"
            }
          },
          "metadata": {},
          "execution_count": 18
        }
      ]
    },
    {
      "cell_type": "code",
      "source": [
        "lst = [10, 20, 30, 40, 50, 60]\n",
        "lst.append(60)\n",
        "lst.insert(3,1000) #add specific index\n",
        "lst.remove(30)\n",
        "print(lst)"
      ],
      "metadata": {
        "colab": {
          "base_uri": "https://localhost:8080/"
        },
        "id": "r_Y1io_tuSBE",
        "outputId": "d50c8391-0adc-42d4-f519-54db56861ef2"
      },
      "execution_count": 22,
      "outputs": [
        {
          "output_type": "stream",
          "name": "stdout",
          "text": [
            "[10, 20, 1000, 40, 50, 60, 60]\n"
          ]
        }
      ]
    },
    {
      "cell_type": "code",
      "source": [
        "lst=[100,200,100,300,400,500,500]\n",
        "# lst.remove(100)\n",
        "# lst.remove(300) #first occurance will be removed\n",
        "lst.pop(1) #index pe udega\n",
        "print(lst)\n"
      ],
      "metadata": {
        "colab": {
          "base_uri": "https://localhost:8080/"
        },
        "id": "paVYAl5vyC9N",
        "outputId": "8d65edc1-2144-4a4e-a3c0-d103f5109de6"
      },
      "execution_count": 28,
      "outputs": [
        {
          "output_type": "stream",
          "name": "stdout",
          "text": [
            "[100, 100, 300, 400, 500, 500]\n"
          ]
        }
      ]
    },
    {
      "cell_type": "code",
      "source": [
        "lst=[1,2,3,4,5,6,7,8,9,10]\n",
        "for i in lst:\n",
        "  print(i, end = \"  \") #print all with two spaces in between"
      ],
      "metadata": {
        "colab": {
          "base_uri": "https://localhost:8080/"
        },
        "id": "ur6SBg2a1DiK",
        "outputId": "518424c7-4d53-4476-a660-897f2e19fb73"
      },
      "execution_count": 31,
      "outputs": [
        {
          "output_type": "stream",
          "name": "stdout",
          "text": [
            "1  2  3  4  5  6  7  8  9  10  "
          ]
        }
      ]
    },
    {
      "cell_type": "code",
      "source": [
        "tup= (10,20,30)\n",
        "print(type(tup)) #no duplicate in tuple round braces\n",
        "\n",
        "a={1,2,3,4,5} #set curly\n",
        "print(type(a))\n",
        "tup.count(10)\n",
        "#list is n dimensional array"
      ],
      "metadata": {
        "colab": {
          "base_uri": "https://localhost:8080/"
        },
        "id": "32sl6PI_3ScW",
        "outputId": "44ff12c8-fb6c-4237-8c66-c44ef25973a3"
      },
      "execution_count": 34,
      "outputs": [
        {
          "output_type": "stream",
          "name": "stdout",
          "text": [
            "<class 'tuple'>\n",
            "<class 'set'>\n"
          ]
        },
        {
          "output_type": "execute_result",
          "data": {
            "text/plain": [
              "1"
            ]
          },
          "metadata": {},
          "execution_count": 34
        }
      ]
    },
    {
      "cell_type": "code",
      "source": [],
      "metadata": {
        "id": "rFREZjMI4iTB"
      },
      "execution_count": null,
      "outputs": []
    }
  ]
}