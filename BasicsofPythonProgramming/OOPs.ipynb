{
  "cells": [
    {
      "cell_type": "code",
      "execution_count": 1,
      "metadata": {
        "colab": {
          "base_uri": "https://localhost:8080/"
        },
        "id": "8sv2SoaQg2XW",
        "outputId": "177d1491-3656-40b5-8c87-55667e56ccac"
      },
      "outputs": [
        {
          "name": "stdout",
          "output_type": "stream",
          "text": [
            "Hello World\n",
            "100\n"
          ]
        }
      ],
      "source": [
        " # Concept of  Class and Object\n",
        "\n",
        "\n",
        "\n",
        "class abc:\n",
        "  num = 100\n",
        "  print('Hello World')\n",
        "\n",
        "\n",
        "obj = abc()\n",
        "print(obj.num)"
      ]
    },
    {
      "cell_type": "code",
      "execution_count": 2,
      "metadata": {
        "colab": {
          "base_uri": "https://localhost:8080/"
        },
        "id": "X_dByDfHhBDN",
        "outputId": "283faa05-a110-4fa3-c67a-7e13dd4c48a8"
      },
      "outputs": [
        {
          "name": "stdout",
          "output_type": "stream",
          "text": [
            "Hello World\n",
            "40000\n"
          ]
        }
      ],
      "source": [
        "class abc:\n",
        "  num = 100\n",
        "  num2 = 400\n",
        "  print('Hello World')\n",
        "\n",
        "\n",
        "obj = abc()\n",
        "print(obj.num * obj.num2)"
      ]
    },
    {
      "cell_type": "code",
      "execution_count": 3,
      "metadata": {
        "colab": {
          "base_uri": "https://localhost:8080/"
        },
        "id": "nHaTW1IihENj",
        "outputId": "c3b63646-4b4d-45d2-a887-ad8feff576e5"
      },
      "outputs": [
        {
          "name": "stdout",
          "output_type": "stream",
          "text": [
            "Hii\n"
          ]
        }
      ],
      "source": [
        "class abc:  # Class definition\n",
        "  print('Hii')\n",
        "\n",
        "\n",
        "obj = abc()   # Creating Object  ---> obj and calling abc()"
      ]
    },
    {
      "cell_type": "code",
      "execution_count": 4,
      "metadata": {
        "colab": {
          "base_uri": "https://localhost:8080/"
        },
        "id": "CBW0vvYGhGNa",
        "outputId": "327a15b8-9ddc-4a4f-f584-5a823e7f4f74"
      },
      "outputs": [
        {
          "name": "stdout",
          "output_type": "stream",
          "text": [
            "12345\n"
          ]
        }
      ],
      "source": [
        "class Myclass():\n",
        "  i = 12345    # Attribute\n",
        "\n",
        "\n",
        "  def f(self):  # Method\n",
        "      return 'Hello World'\n",
        "\n",
        "\n",
        "x = Myclass()\n",
        "\n",
        "print(x.i)"
      ]
    },
    {
      "cell_type": "code",
      "execution_count": 5,
      "metadata": {
        "colab": {
          "base_uri": "https://localhost:8080/"
        },
        "id": "Obhu6IvzhH2f",
        "outputId": "8bc0ba08-cce8-4604-fbf4-7699cd3f6119"
      },
      "outputs": [
        {
          "name": "stdout",
          "output_type": "stream",
          "text": [
            "9000\n"
          ]
        }
      ],
      "source": [
        "## COnstructor : __init__\n",
        "\n",
        "class  abc:\n",
        "  def __init__(self,num1,num2):\n",
        "    self.num1 = 2000\n",
        "    self.num2 = 9000\n",
        "\n",
        "\n",
        "x = abc(100,200)\n",
        "\n",
        "print(x.num2)\n"
      ]
    },
    {
      "cell_type": "code",
      "execution_count": 6,
      "metadata": {
        "colab": {
          "base_uri": "https://localhost:8080/"
        },
        "id": "7nnBj-YphJu6",
        "outputId": "a15d9743-ff50-487c-dd22-c5c83616a166"
      },
      "outputs": [
        {
          "name": "stdout",
          "output_type": "stream",
          "text": [
            "9000\n",
            "The value of num1 is 2000 and num2 is 9000.\n",
            "None\n"
          ]
        }
      ],
      "source": [
        "class  abc:  # Class Definition\n",
        "  def __init__(self,num1,num2):\n",
        "    self.num1 = 2000             # Class Attribute\n",
        "    self.num2 = 9000             # Class Attribute\n",
        "\n",
        "  def show_data(self):            # Class Method\n",
        "    print(f'The value of num1 is {self.num1} and num2 is {self.num2}.')\n",
        "\n",
        "\n",
        "x = abc(100,200)                 # x is the object of class name abc\n",
        "\n",
        "print(x.num2)                    # calling attribute using dot operator\n",
        "print(x.show_data())             # calling method using dot operator\n",
        "\n",
        "\n",
        "\n"
      ]
    },
    {
      "cell_type": "code",
      "execution_count": 7,
      "metadata": {
        "colab": {
          "base_uri": "https://localhost:8080/"
        },
        "id": "mnBohrQOhLlr",
        "outputId": "2a4093ae-4582-4f5a-9a90-5f30a4f62e2f"
      },
      "outputs": [
        {
          "name": "stdout",
          "output_type": "stream",
          "text": [
            "The details of car1 brand is Bmw, model is X5, colour is White,fuel_type is Petrol.\n",
            "None\n"
          ]
        }
      ],
      "source": [
        "class my_car:\n",
        "  def __init__(self,brand,model,colour,fuel_type):\n",
        "    self.brand = 'Bmw'\n",
        "    self.model = 'X5'\n",
        "    self.colour = 'White'\n",
        "    self.fuel_type = 'Petrol'\n",
        "\n",
        "  def show_data(self):\n",
        "      print(f'The details of car1 brand is {self.brand}, model is {self.model}, colour is {self.colour},fuel_type is {self.fuel_type}.')\n",
        "\n",
        "x = my_car(1,2,3,4)\n",
        "print(x.show_data())"
      ]
    },
    {
      "cell_type": "code",
      "execution_count": 8,
      "metadata": {
        "colab": {
          "base_uri": "https://localhost:8080/"
        },
        "id": "X__qFrNJhOuq",
        "outputId": "fd0fdae1-b2b8-441e-df74-e62838051954"
      },
      "outputs": [
        {
          "name": "stdout",
          "output_type": "stream",
          "text": [
            " The brand is BMW, Model M8, color is RED, and fuel type is Petrol\n",
            " The brand is BMW, Model M4, color is Blue, and fuel type is Petrol\n",
            " The brand is Lamborghini, Model SVJ, color is RED, and fuel type is Petrol\n",
            " The brand is porche, Model 911, color is RED, and fuel type is Petrol\n",
            " The brand is mclaren, Model 765, color is black, and fuel type is Petrol\n"
          ]
        }
      ],
      "source": [
        "class my_car:\n",
        "  def __init__(self, brand, model, color, fuel_type):\n",
        "    self.brand = brand\n",
        "    self.model = model\n",
        "    self.color = color\n",
        "    self.fuel_type = fuel_type\n",
        "\n",
        "  def show_data(self):\n",
        "    print(f\" The brand is {self.brand}, Model {self.model}, color is {self.color}, and fuel type is {self.fuel_type}\")\n",
        "\n",
        "car1 = my_car(\"BMW\", \"M8\", \"RED\", \"Petrol\")\n",
        "car2 = my_car(\"BMW\", \"M4\", \"Blue\", \"Petrol\")\n",
        "car3 = my_car(\"Lamborghini\", \"SVJ\", \"RED\", \"Petrol\")\n",
        "car4 = my_car(\"porche\", \"911\", \"RED\", \"Petrol\")\n",
        "car5 = my_car(\"mclaren\", \"765\", \"black\", \"Petrol\")\n",
        "\n",
        "car1.show_data()\n",
        "car2.show_data()\n",
        "car3.show_data()\n",
        "car4.show_data()\n",
        "car5.show_data()"
      ]
    },
    {
      "cell_type": "code",
      "execution_count": 9,
      "metadata": {
        "colab": {
          "base_uri": "https://localhost:8080/"
        },
        "id": "p7BRIGE5he_n",
        "outputId": "a2dc2faa-148f-47a2-cdd9-fac4ccc817b4"
      },
      "outputs": [
        {
          "name": "stdout",
          "output_type": "stream",
          "text": [
            "hii\n"
          ]
        }
      ],
      "source": [
        "class abc:\n",
        "    print('hii')\n",
        "\n",
        "obj = abc()"
      ]
    },
    {
      "cell_type": "code",
      "execution_count": 10,
      "metadata": {
        "colab": {
          "base_uri": "https://localhost:8080/"
        },
        "id": "_T95P8MokGKV",
        "outputId": "8d1f3645-ef55-4df0-fd87-f891233b294d"
      },
      "outputs": [
        {
          "name": "stdout",
          "output_type": "stream",
          "text": [
            "12345\n",
            "Hello World\n"
          ]
        }
      ],
      "source": [
        "class anirudha:\n",
        "\n",
        "    i = 12345 #Attribute\n",
        "\n",
        "    def f(self): #Method\n",
        "        return \"Hello World\"\n",
        "\n",
        "x = anirudha()\n",
        "\n",
        "print(x.i)\n",
        "\n",
        "print(x.f())"
      ]
    },
    {
      "cell_type": "code",
      "execution_count": 11,
      "metadata": {
        "id": "NDt2Yp6-kMxt"
      },
      "outputs": [],
      "source": [
        "def __init__(self):\n",
        "    self.data = []"
      ]
    },
    {
      "cell_type": "code",
      "execution_count": 12,
      "metadata": {
        "colab": {
          "base_uri": "https://localhost:8080/"
        },
        "id": "2hOK00spkTD3",
        "outputId": "927c68e8-f8c4-4b49-9aac-b98bcf13d463"
      },
      "outputs": [
        {
          "name": "stdout",
          "output_type": "stream",
          "text": [
            "1000\n",
            "2000\n"
          ]
        }
      ],
      "source": [
        "# class abc:\n",
        "#     def __init__(self):\n",
        "#         self.num1 = 1000\n",
        "#         self.num2 = 2000\n",
        "\n",
        "\n",
        "# m = abc()\n",
        "\n",
        "# m.num1\n",
        "\n",
        "class abc:\n",
        "    def __init__(self):\n",
        "        self.num1 = 1000  # You can ignore the parameters if you're hardcoding values\n",
        "        self.num2 = 2000\n",
        "\n",
        "    def showdata(self):\n",
        "        print(f'{self.num1}')\n",
        "        print(f'{self.num2}')\n",
        "\n",
        "# Create an object with two arguments (even though they’re not used)\n",
        "x = abc()\n",
        "\n",
        "# Call the method\n",
        "x.showdata()"
      ]
    },
    {
      "cell_type": "code",
      "execution_count": 13,
      "metadata": {
        "colab": {
          "base_uri": "https://localhost:8080/"
        },
        "id": "KRpPSJDRkWor",
        "outputId": "cddecc56-7e06-4df7-e26e-e9aa5da96c58"
      },
      "outputs": [
        {
          "name": "stdout",
          "output_type": "stream",
          "text": [
            "Enter the Amount : 10\n",
            "None\n",
            "The Current Balance is 9990.0\n",
            "None\n"
          ]
        }
      ],
      "source": [
        "import logging\n",
        "logging.basicConfig(level=logging.INFO,\n",
        "                    filemode='w',\n",
        "                    format='%(asctime)s - %(levelname)s - %(message)s',\n",
        "                    filename = 'model.log',force = True)\n",
        "\n",
        "\n",
        "\n",
        "class Banking:\n",
        "    def __init__(self):\n",
        "        self.balance = 10000\n",
        "        self.withdraw = float(input(\"Enter the Amount : \"))\n",
        "\n",
        "    def bal(self):\n",
        "        if self.balance <= self.withdraw:\n",
        "            print(\"Withdraw Amount is Higher\")\n",
        "        else:\n",
        "            self.balance -= self.withdraw\n",
        "\n",
        "    def show_balance(self):\n",
        "        print(f\"The Current Balance is {self.balance}\")\n",
        "\n",
        "wtdr = Banking()\n",
        "print(wtdr.bal())\n",
        "print(wtdr.show_balance())\n",
        "\n",
        "\n",
        "logging.info('Hello World')\n"
      ]
    },
    {
      "cell_type": "code",
      "execution_count": 14,
      "metadata": {
        "colab": {
          "base_uri": "https://localhost:8080/"
        },
        "id": "O5KljKgOkcBd",
        "outputId": "ebe88cd5-5225-4dbe-d772-21ae943e5838"
      },
      "outputs": [
        {
          "name": "stdout",
          "output_type": "stream",
          "text": [
            "Enter Amount to deposit : 5000\n",
            "5000.0 deposited succefully\n",
            "Enter the amount withdraw : 3000\n",
            "3000.0 withdrawn successfully\n",
            "Current Balance : 12000.0\n"
          ]
        }
      ],
      "source": [
        "# Parent Class\n",
        "\n",
        "class BankAccount:\n",
        "  def __init__(self,balance):\n",
        "    self.balance = balance\n",
        "\n",
        "\n",
        "  def show_balance(self):\n",
        "    print(f'Current Balance : {self.balance}')\n",
        "\n",
        "  def withdraw(self,amount):\n",
        "    if amount > self.balance:\n",
        "      print('Insufficient balance!')\n",
        "    else:\n",
        "      self.balance -= amount\n",
        "      print(f'{amount} withdrawn successfully')\n",
        "\n",
        "\n",
        "class SavingsAccount(BankAccount):\n",
        "  def deposit(self,amount):\n",
        "    self.balance += amount\n",
        "    print(f'{amount} deposited succefully')\n",
        "\n",
        "\n",
        "\n",
        "my_account = SavingsAccount(10000)\n",
        "\n",
        "deposit_amount = float(input('Enter Amount to deposit : '))\n",
        "my_account.deposit(deposit_amount)\n",
        "\n",
        "withdraw_amount = float(input('Enter the amount withdraw : '))\n",
        "my_account.withdraw(withdraw_amount)\n",
        "\n",
        "my_account.show_balance()\n",
        "\n"
      ]
    },
    {
      "cell_type": "code",
      "execution_count": 1,
      "metadata": {
        "id": "LXrfYogrlGB-"
      },
      "outputs": [
        {
          "name": "stdout",
          "output_type": "stream",
          "text": [
            "Animal Speaks\n",
            "Dog Barks\n"
          ]
        }
      ],
      "source": [
        "# Concept Of Inheritance\n",
        "# Parent Class\n",
        "\n",
        "class animal:\n",
        "  def speak(self):\n",
        "    print('Animal Speaks')\n",
        "\n",
        "# Child class inherits from animal\n",
        "\n",
        "class dog(animal):\n",
        "  def bark(self):\n",
        "    print('Dog Barks')\n",
        "\n",
        "# Create an object of Dog\n",
        "\n",
        "d = dog()\n",
        "d.speak()\n",
        "d.bark()"
      ]
    },
    {
      "cell_type": "code",
      "execution_count": 2,
      "metadata": {},
      "outputs": [
        {
          "name": "stdout",
          "output_type": "stream",
          "text": [
            "1000.0 deposited succefully\n",
            "500.0 withdrawn successfully\n",
            "Current Balance : 10500.0\n"
          ]
        }
      ],
      "source": [
        "# Parent Class\n",
        "\n",
        "class BankAccount:\n",
        "  def __init__(self,balance):\n",
        "    self.balance = balance\n",
        "\n",
        "\n",
        "  def show_balance(self):\n",
        "    print(f'Current Balance : {self.balance}')\n",
        "\n",
        "  def withdraw(self,amount):\n",
        "    if amount > self.balance:\n",
        "      print('Insufficient balance!')\n",
        "    else:\n",
        "      self.balance -= amount\n",
        "      print(f'{amount} withdrawn successfully')\n",
        "\n",
        "\n",
        "class SavingsAccount(BankAccount):\n",
        "  def deposit(self,amount):\n",
        "    self.balance += amount\n",
        "    print(f'{amount} deposited succefully')\n",
        "\n",
        "\n",
        "\n",
        "my_account = SavingsAccount(10000)\n",
        "\n",
        "deposit_amount = float(input('Enter Amount to deposit : '))\n",
        "my_account.deposit(deposit_amount)\n",
        "\n",
        "withdraw_amount = float(input('Enter the amount withdraw : '))\n",
        "my_account.withdraw(withdraw_amount)\n",
        "\n",
        "my_account.show_balance()\n"
      ]
    },
    {
      "cell_type": "code",
      "execution_count": null,
      "metadata": {},
      "outputs": [],
      "source": [
        "#Polymorphism\n",
        "\n",
        "class Bear(object):\n",
        "  def sound(self):\n",
        "    print(\"Groarrr\")\n",
        "\n",
        "class Dog(object):\n",
        "  def sound(self):\n",
        "    print(\"Woof woof!\")\n",
        "\n",
        "def makeSound(animalType):\n",
        "  animalType.sound()\n",
        "\n",
        "bearObj = Bear()\n",
        "dogObj = Dog()\n",
        "\n",
        "makeSound(bearObj)\n",
        "makeSound(dogObj)\n"
      ]
    },
    {
      "cell_type": "code",
      "execution_count": null,
      "metadata": {},
      "outputs": [],
      "source": [
        "#Inheritence and Polymorphism\n",
        "\n",
        "class Animal:\n",
        "  def speak(self):\n",
        "    pass\n",
        "class Dog(Animal):\n",
        "  def speak(self):\n",
        "    print(\"Woof!\")\n",
        "class Cat(Animal):\n",
        "  def speak(self):\n",
        "    print(\"Meow!\")\n",
        "\n",
        "dog = Dog()\n",
        "cat = Cat()\n",
        "\n",
        "dog.speak()\n",
        "cat.speak()"
      ]
    },
    {
      "cell_type": "code",
      "execution_count": 1,
      "metadata": {},
      "outputs": [
        {
          "name": "stdout",
          "output_type": "stream",
          "text": [
            "Quote: “The world as we have created it is a process of our thinking. It cannot be changed without changing our thinking.”\n",
            "Author: Albert Einstein\n",
            "\n",
            "Quote: “It is our choices, Harry, that show what we truly are, far more than our abilities.”\n",
            "Author: J.K. Rowling\n",
            "\n",
            "Quote: “There are only two ways to live your life. One is as though nothing is a miracle. The other is as though everything is a miracle.”\n",
            "Author: Albert Einstein\n",
            "\n",
            "Quote: “The person, be it gentleman or lady, who has not pleasure in a good novel, must be intolerably stupid.”\n",
            "Author: Jane Austen\n",
            "\n",
            "Quote: “Imperfection is beauty, madness is genius and it's better to be absolutely ridiculous than absolutely boring.”\n",
            "Author: Marilyn Monroe\n",
            "\n",
            "Quote: “Try not to become a man of success. Rather become a man of value.”\n",
            "Author: Albert Einstein\n",
            "\n",
            "Quote: “It is better to be hated for what you are than to be loved for what you are not.”\n",
            "Author: André Gide\n",
            "\n",
            "Quote: “I have not failed. I've just found 10,000 ways that won't work.”\n",
            "Author: Thomas A. Edison\n",
            "\n",
            "Quote: “A woman is like a tea bag; you never know how strong it is until it's in hot water.”\n",
            "Author: Eleanor Roosevelt\n",
            "\n",
            "Quote: “A day without sunshine is like, you know, night.”\n",
            "Author: Steve Martin\n",
            "\n"
          ]
        }
      ],
      "source": [
        "# WEB SCRAPING\n",
        "\n",
        "\n",
        "import requests\n",
        "from bs4 import BeautifulSoup\n",
        "\n",
        "url = \"https://quotes.toscrape.com/\"\n",
        "response = requests.get(url)\n",
        "soup = BeautifulSoup(response.text, 'html.parser')\n",
        "\n",
        "#find all quote blocks\n",
        "quotes = soup.find_all('div', class_='quote')\n",
        "\n",
        "'''\n",
        "span: targeting specific pieces of content with CSS or JS\n",
        "class_: targeting elements with a specific class name\n",
        "'''\n",
        "\n",
        "for quote in quotes:\n",
        "    text = quote.find('span', class_='text').text\n",
        "    author = quote.find('small', class_='author').text\n",
        "    print(f\"Quote: {text}\\nAuthor: {author}\\n\")\n"
      ]
    },
    {
      "cell_type": "code",
      "execution_count": null,
      "metadata": {},
      "outputs": [],
      "source": [
        "# Univariate ANnalysis\n",
        "# 1. Mean, Median, Mode, Skweness, Kurtosis,Quantile\n",
        "# 2. Bivaritate- categorical vs num(bar, table, pie), num vs num(scatter, heatman(correlation finding))\n",
        "# 3. Multivariate- group by and crosstab\n",
        "\n",
        "# Mode for categorical\n",
        "# MEan and median for numerical p,l,\n",
        "\n",
        "#mean=median normally distribute\n",
        "#interquartile range\n",
        "\n",
        "\n",
        "# append is function, list is ds and class, pass para, class k ander jo bhi function wo method hai,\n",
        "\n",
        "#when pixel glows, turning on of pixels at specific location/intensity its rasterization\n",
        "\n",
        "# ARRAY: stores values with different datatypes in a sequence \n",
        "#like: lst[1,2,3], lst[[1,2,3,4]] 1D, 2D arrays\n",
        "\n",
        "#Vetor= magnitude nd direction\n",
        "\n",
        "# Numpy is vectorized form of array, consume less memo and computational cost\n",
        "#array preferred over array, n-Dimensional and iterative process goes on looping so high consumption of computation and memory "
      ]
    },
    {
      "cell_type": "code",
      "execution_count": null,
      "metadata": {},
      "outputs": [],
      "source": []
    }
  ],
  "metadata": {
    "colab": {
      "provenance": []
    },
    "kernelspec": {
      "display_name": "base",
      "language": "python",
      "name": "python3"
    },
    "language_info": {
      "codemirror_mode": {
        "name": "ipython",
        "version": 3
      },
      "file_extension": ".py",
      "mimetype": "text/x-python",
      "name": "python",
      "nbconvert_exporter": "python",
      "pygments_lexer": "ipython3",
      "version": "3.9.13"
    }
  },
  "nbformat": 4,
  "nbformat_minor": 0
}
