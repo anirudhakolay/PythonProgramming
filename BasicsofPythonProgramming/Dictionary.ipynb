{
  "nbformat": 4,
  "nbformat_minor": 0,
  "metadata": {
    "colab": {
      "provenance": []
    },
    "kernelspec": {
      "name": "python3",
      "display_name": "Python 3"
    },
    "language_info": {
      "name": "python"
    }
  },
  "cells": [
    {
      "cell_type": "code",
      "execution_count": null,
      "metadata": {
        "colab": {
          "base_uri": "https://localhost:8080/"
        },
        "id": "Beth6pfj6Dav",
        "outputId": "8839a69e-1740-441e-a583-73c98066ec84"
      },
      "outputs": [
        {
          "output_type": "execute_result",
          "data": {
            "text/plain": [
              "dict_items([('A', 10), ('B', 20), ('C', 30)])"
            ]
          },
          "metadata": {},
          "execution_count": 3
        }
      ],
      "source": [
        "#dictionary is immutable, dependent on keys\n",
        "dict={'A':10,'B':20,'C':30}\n",
        "\n",
        "dict.values()\n",
        "dict.items()\n"
      ]
    },
    {
      "cell_type": "code",
      "source": [
        "dict.update({'D':40})  #updating with keys, so immutable\n",
        "print(dict)"
      ],
      "metadata": {
        "colab": {
          "base_uri": "https://localhost:8080/"
        },
        "id": "ToOVvu3R6u-W",
        "outputId": "e033cda1-5de7-4fa1-d2ba-9502ff770211"
      },
      "execution_count": null,
      "outputs": [
        {
          "output_type": "stream",
          "name": "stdout",
          "text": [
            "{'A': 10, 'B': 20, 'C': 30, 'D': 40}\n"
          ]
        }
      ]
    },
    {
      "cell_type": "code",
      "source": [
        "dict.update({'D':80})  #updating with keys, so immutable\n",
        "print(dict)"
      ],
      "metadata": {
        "colab": {
          "base_uri": "https://localhost:8080/"
        },
        "id": "FeeGWuC-7sX1",
        "outputId": "1ce97781-dfad-42b6-a533-dfab828f911e"
      },
      "execution_count": null,
      "outputs": [
        {
          "output_type": "stream",
          "name": "stdout",
          "text": [
            "{'A': 10, 'B': 20, 'C': 30, 'D': 80}\n"
          ]
        }
      ]
    },
    {
      "cell_type": "code",
      "source": [
        "#no data structure cannot be as a key, value can be any data structure\n",
        "dict={'India':[100,200,300],\n",
        "      'USA':[400,500,600],\n",
        "      'UK':[\"Hii\",\"World\",\"Python\"]}"
      ],
      "metadata": {
        "id": "KOu9utvL8J6Y"
      },
      "execution_count": null,
      "outputs": []
    },
    {
      "cell_type": "code",
      "source": [
        "dict['India'] #indexing done by key"
      ],
      "metadata": {
        "colab": {
          "base_uri": "https://localhost:8080/"
        },
        "id": "w0wfiLrj9yFa",
        "outputId": "3ff2a0fe-43b6-4d8b-f3da-f7e01dcf7f07"
      },
      "execution_count": null,
      "outputs": [
        {
          "output_type": "execute_result",
          "data": {
            "text/plain": [
              "[100, 200, 300]"
            ]
          },
          "metadata": {},
          "execution_count": 9
        }
      ]
    },
    {
      "cell_type": "code",
      "source": [
        "dict['UK'][2]"
      ],
      "metadata": {
        "colab": {
          "base_uri": "https://localhost:8080/",
          "height": 36
        },
        "id": "zA4GgMZX_OVV",
        "outputId": "eda1a2f3-453b-4a65-ece9-909af363b419"
      },
      "execution_count": null,
      "outputs": [
        {
          "output_type": "execute_result",
          "data": {
            "text/plain": [
              "'Python'"
            ],
            "application/vnd.google.colaboratory.intrinsic+json": {
              "type": "string"
            }
          },
          "metadata": {},
          "execution_count": 11
        }
      ]
    },
    {
      "cell_type": "code",
      "source": [
        "for i in range(0,10):\n",
        "  print(i)\n",
        "  # if i==5:\n",
        "  #   break"
      ],
      "metadata": {
        "colab": {
          "base_uri": "https://localhost:8080/"
        },
        "id": "e5PQ3szD_UHM",
        "outputId": "e91005ea-2804-418c-d5bf-fc44aef1cd65"
      },
      "execution_count": null,
      "outputs": [
        {
          "output_type": "stream",
          "name": "stdout",
          "text": [
            "0\n",
            "1\n",
            "2\n",
            "3\n",
            "4\n",
            "5\n",
            "6\n",
            "7\n",
            "8\n",
            "9\n"
          ]
        }
      ]
    },
    {
      "cell_type": "code",
      "source": [
        "for i in range(0,10):\n",
        "  print(i)\n",
        "  if i==5:\n",
        "    break"
      ],
      "metadata": {
        "colab": {
          "base_uri": "https://localhost:8080/"
        },
        "id": "Og8teL-zBKG2",
        "outputId": "245798f6-708b-44a7-dab4-23e220078cb4"
      },
      "execution_count": null,
      "outputs": [
        {
          "output_type": "stream",
          "name": "stdout",
          "text": [
            "0\n",
            "1\n",
            "2\n",
            "3\n",
            "4\n",
            "5\n"
          ]
        }
      ]
    },
    {
      "cell_type": "code",
      "source": [
        "for i in range(0,10):\n",
        "  print(i)\n",
        "  if i==5:\n",
        "    continue"
      ],
      "metadata": {
        "colab": {
          "base_uri": "https://localhost:8080/"
        },
        "id": "t7p0KyMUBgDv",
        "outputId": "7fb60e76-3461-4198-a9a7-d21158a485d7"
      },
      "execution_count": null,
      "outputs": [
        {
          "output_type": "stream",
          "name": "stdout",
          "text": [
            "0\n",
            "1\n",
            "2\n",
            "3\n",
            "4\n",
            "5\n",
            "6\n",
            "7\n",
            "8\n",
            "9\n"
          ]
        }
      ]
    },
    {
      "cell_type": "code",
      "source": [
        "for i in range(0,10):\n",
        "  print(i)\n",
        "  if i==5:\n",
        "    pass #though its i==5 pass k wajah se aage jayega"
      ],
      "metadata": {
        "colab": {
          "base_uri": "https://localhost:8080/"
        },
        "id": "xzVtBhMSCBAJ",
        "outputId": "9e328909-8552-48f9-d3ab-9731e8bf26a7"
      },
      "execution_count": null,
      "outputs": [
        {
          "output_type": "stream",
          "name": "stdout",
          "text": [
            "0\n",
            "1\n",
            "2\n",
            "3\n",
            "4\n",
            "5\n",
            "6\n",
            "7\n",
            "8\n",
            "9\n"
          ]
        }
      ]
    },
    {
      "cell_type": "code",
      "source": [
        "for i in range(0,10):\n",
        "  if i%2==0: #remainder check krta hai 0, aur phir print\n",
        "    print(i)"
      ],
      "metadata": {
        "colab": {
          "base_uri": "https://localhost:8080/"
        },
        "id": "FQ8S06QcCRbB",
        "outputId": "7d2d3e0a-bc71-4a03-fa69-b52b599b7cd3"
      },
      "execution_count": null,
      "outputs": [
        {
          "output_type": "stream",
          "name": "stdout",
          "text": [
            "0\n",
            "2\n",
            "4\n",
            "6\n",
            "8\n"
          ]
        }
      ]
    },
    {
      "cell_type": "code",
      "source": [
        "for i in range(0,10):\n",
        "  if i%2==1:\n",
        "    print(i)"
      ],
      "metadata": {
        "colab": {
          "base_uri": "https://localhost:8080/"
        },
        "id": "kMbKmm7cDyuO",
        "outputId": "99a17d3b-3842-4bec-d054-8aee1086e731"
      },
      "execution_count": null,
      "outputs": [
        {
          "output_type": "stream",
          "name": "stdout",
          "text": [
            "1\n",
            "3\n",
            "5\n",
            "7\n",
            "9\n"
          ]
        }
      ]
    },
    {
      "cell_type": "code",
      "source": [
        "for i in range(0,10):\n",
        "  if i%2 != 0:\n",
        "    print(i)"
      ],
      "metadata": {
        "colab": {
          "base_uri": "https://localhost:8080/"
        },
        "id": "qIFB2Xz5Ea_t",
        "outputId": "c1ad3be5-1934-48c8-8858-1ee2fcfd735f"
      },
      "execution_count": null,
      "outputs": [
        {
          "output_type": "stream",
          "name": "stdout",
          "text": [
            "1\n",
            "3\n",
            "5\n",
            "7\n",
            "9\n"
          ]
        }
      ]
    },
    {
      "cell_type": "code",
      "source": [
        "dict={'India':[1000,2000,3000], 'USA':(100,200,300),'UK':{'India', 'pak', 'UAE'}}"
      ],
      "metadata": {
        "id": "W9lLKqNPEeYi"
      },
      "execution_count": null,
      "outputs": []
    },
    {
      "cell_type": "code",
      "source": [
        "dict['India']"
      ],
      "metadata": {
        "colab": {
          "base_uri": "https://localhost:8080/"
        },
        "id": "obyqEuY2-Kyq",
        "outputId": "fef3dc9f-a324-4f6a-f4be-e85a48f7887b"
      },
      "execution_count": null,
      "outputs": [
        {
          "output_type": "execute_result",
          "data": {
            "text/plain": [
              "[1000, 2000, 3000]"
            ]
          },
          "metadata": {},
          "execution_count": 4
        }
      ]
    },
    {
      "cell_type": "code",
      "source": [
        "for i in range(0,10):\n",
        "  break\n",
        "  print(i)"
      ],
      "metadata": {
        "id": "eitP9plm-Uj9"
      },
      "execution_count": null,
      "outputs": []
    },
    {
      "cell_type": "code",
      "source": [
        "for i in range(0,10):\n",
        "  continue\n",
        "  print(i) #output is none, continues the loop\n"
      ],
      "metadata": {
        "id": "2ELont8p-t3U"
      },
      "execution_count": null,
      "outputs": []
    },
    {
      "cell_type": "code",
      "source": [
        "'''\n",
        "if <Condition = True>:\n",
        "  print(\"string\")\n",
        "\n",
        "Note:\n",
        "    = --> Assignment Opertaor\n",
        "    == --> Comparison Operator\n",
        "'''\n",
        "\n",
        "if 1==3:\n",
        "  print(\"Hello World\")"
      ],
      "metadata": {
        "id": "KYFV7hvU_Z2G"
      },
      "execution_count": null,
      "outputs": []
    },
    {
      "cell_type": "code",
      "source": [
        "num=100\n",
        "if num==100:\n",
        "  print(\"TRUE\")"
      ],
      "metadata": {
        "colab": {
          "base_uri": "https://localhost:8080/"
        },
        "id": "mDvvYOhXBN_o",
        "outputId": "d26460f2-ba28-4f37-e3ad-753492241de8"
      },
      "execution_count": null,
      "outputs": [
        {
          "output_type": "stream",
          "name": "stdout",
          "text": [
            "TRUE\n"
          ]
        }
      ]
    },
    {
      "cell_type": "code",
      "source": [
        "num=90\n",
        "if num>100:\n",
        "  print(\"NUMBER IS GREATER THAN 100\")\n",
        "else:\n",
        "  print(\"NUMBER IS LESS THAN 100\")"
      ],
      "metadata": {
        "colab": {
          "base_uri": "https://localhost:8080/"
        },
        "id": "X3NYTMbJCf1V",
        "outputId": "2a0df4c0-f77b-46e3-a570-1516b38a8954"
      },
      "execution_count": null,
      "outputs": [
        {
          "output_type": "stream",
          "name": "stdout",
          "text": [
            "NUMBER IS LESS THAN 100\n"
          ]
        }
      ]
    },
    {
      "cell_type": "code",
      "source": [
        "'''\n",
        "if <condition= TRUE>:\n",
        "  <STATMENT>\n",
        "elif <coNDITION= TRUE>:\n",
        "  <STATEMENT>\n",
        "else:\n",
        "  <statement>\n",
        "'''\n",
        "\n",
        "number=float(input('enter the nuber:'))\n",
        "\n",
        "threshould=200\n",
        "\n",
        "if number>threshould:\n",
        "  print('number is greater than threshould')\n",
        "elif number<threshould:\n",
        "  print('number is less than threshould')\n",
        "else:\n",
        "  print('number is equal to threshould')"
      ],
      "metadata": {
        "colab": {
          "base_uri": "https://localhost:8080/"
        },
        "id": "3pav7pngDDNk",
        "outputId": "448d6496-9f73-4f9a-b12f-3badc7a4ac82"
      },
      "execution_count": null,
      "outputs": [
        {
          "output_type": "stream",
          "name": "stdout",
          "text": [
            "enter the nuber:200\n",
            "number is equal to threshould\n"
          ]
        }
      ]
    },
    {
      "cell_type": "code",
      "source": [
        "marks=float(input('enter your marks: '))\n",
        "if marks>=80:\n",
        "  print('Bright student')\n",
        "elif marks>=70 and marks<=79:\n",
        "  print('Good Student')\n",
        "elif marks>=60 and marks<=69:\n",
        "  print('Average Student')\n",
        "elif marks>=50 and marks<=59:\n",
        "  print('weak Student')\n",
        "else:\n",
        "  print('low grade')"
      ],
      "metadata": {
        "colab": {
          "base_uri": "https://localhost:8080/"
        },
        "id": "hbuhui01FhW_",
        "outputId": "1b0fa2a0-5fd8-4086-de95-ffe6f9ba9b47"
      },
      "execution_count": null,
      "outputs": [
        {
          "output_type": "stream",
          "name": "stdout",
          "text": [
            "enter your marks: 78\n",
            "Good Student\n"
          ]
        }
      ]
    },
    {
      "cell_type": "code",
      "source": [
        "num=int(input('enter nummber'))\n",
        "fact=1\n",
        "for i in range (1,num+1):\n",
        "  fact=fact*i\n",
        "print(fact)"
      ],
      "metadata": {
        "colab": {
          "base_uri": "https://localhost:8080/"
        },
        "id": "ujXNyXJcI86d",
        "outputId": "9f807d2a-0323-4f8a-b6eb-8eb54942b6c0"
      },
      "execution_count": null,
      "outputs": [
        {
          "output_type": "stream",
          "name": "stdout",
          "text": [
            "enter nummber4\n",
            "24\n"
          ]
        }
      ]
    },
    {
      "cell_type": "code",
      "source": [
        "#square root and power\n",
        "num=2**3 #power 3\n",
        "\n",
        "num1=4**0.5\n",
        "print(num)\n",
        "print(num1)"
      ],
      "metadata": {
        "colab": {
          "base_uri": "https://localhost:8080/"
        },
        "id": "TEbw2ZPpOID3",
        "outputId": "b75dbaa7-6cf2-487a-e16e-f7f2e78f43d6"
      },
      "execution_count": null,
      "outputs": [
        {
          "output_type": "stream",
          "name": "stdout",
          "text": [
            "8\n",
            "2.0\n"
          ]
        }
      ]
    },
    {
      "cell_type": "code",
      "source": [
        "import math\n",
        "math.pow(2,3)"
      ],
      "metadata": {
        "colab": {
          "base_uri": "https://localhost:8080/"
        },
        "id": "q7QgSK79O8v-",
        "outputId": "31162619-0df1-4cfe-824c-dcf7be7603e8"
      },
      "execution_count": null,
      "outputs": [
        {
          "output_type": "execute_result",
          "data": {
            "text/plain": [
              "8.0"
            ]
          },
          "metadata": {},
          "execution_count": 35
        }
      ]
    },
    {
      "cell_type": "code",
      "source": [
        "math.sqrt(4)"
      ],
      "metadata": {
        "colab": {
          "base_uri": "https://localhost:8080/"
        },
        "id": "_WifMKKDPAW9",
        "outputId": "0e5622b5-eb42-4d83-bde5-13a0eaa90f68"
      },
      "execution_count": null,
      "outputs": [
        {
          "output_type": "execute_result",
          "data": {
            "text/plain": [
              "2.0"
            ]
          },
          "metadata": {},
          "execution_count": 36
        }
      ]
    },
    {
      "cell_type": "code",
      "source": [
        "withdirawalAmount= float(input(\"enter your amount: \"))\n",
        "balance=5000\n",
        "# print(NetAmount)\n",
        "if NetAmount<=balance:\n",
        "  print('withdraw success')\n",
        "  NetAmount=balance-withdirawalAmount\n",
        "  print('remaining balance: ', NetAmount)\n",
        "else:\n",
        "  print('insufficient')"
      ],
      "metadata": {
        "id": "HlHh1i36PHnm",
        "colab": {
          "base_uri": "https://localhost:8080/",
          "height": 237
        },
        "outputId": "0cc467c2-4589-462b-9f89-6d655abbe506"
      },
      "execution_count": null,
      "outputs": [
        {
          "name": "stdout",
          "output_type": "stream",
          "text": [
            "enter your amount: 4500\n"
          ]
        },
        {
          "output_type": "error",
          "ename": "NameError",
          "evalue": "name 'NetAmount' is not defined",
          "traceback": [
            "\u001b[0;31m---------------------------------------------------------------------------\u001b[0m",
            "\u001b[0;31mNameError\u001b[0m                                 Traceback (most recent call last)",
            "\u001b[0;32m<ipython-input-2-557e71de366a>\u001b[0m in \u001b[0;36m<cell line: 0>\u001b[0;34m()\u001b[0m\n\u001b[1;32m      2\u001b[0m \u001b[0mbalance\u001b[0m\u001b[0;34m=\u001b[0m\u001b[0;36m5000\u001b[0m\u001b[0;34m\u001b[0m\u001b[0;34m\u001b[0m\u001b[0m\n\u001b[1;32m      3\u001b[0m \u001b[0;31m# print(NetAmount)\u001b[0m\u001b[0;34m\u001b[0m\u001b[0;34m\u001b[0m\u001b[0m\n\u001b[0;32m----> 4\u001b[0;31m \u001b[0;32mif\u001b[0m \u001b[0mNetAmount\u001b[0m\u001b[0;34m<=\u001b[0m\u001b[0mbalance\u001b[0m\u001b[0;34m:\u001b[0m\u001b[0;34m\u001b[0m\u001b[0;34m\u001b[0m\u001b[0m\n\u001b[0m\u001b[1;32m      5\u001b[0m   \u001b[0mprint\u001b[0m\u001b[0;34m(\u001b[0m\u001b[0;34m'withdraw success'\u001b[0m\u001b[0;34m)\u001b[0m\u001b[0;34m\u001b[0m\u001b[0;34m\u001b[0m\u001b[0m\n\u001b[1;32m      6\u001b[0m   \u001b[0mNetAmount\u001b[0m\u001b[0;34m=\u001b[0m\u001b[0mbalance\u001b[0m\u001b[0;34m-\u001b[0m\u001b[0mwithdirawalAmount\u001b[0m\u001b[0;34m\u001b[0m\u001b[0;34m\u001b[0m\u001b[0m\n",
            "\u001b[0;31mNameError\u001b[0m: name 'NetAmount' is not defined"
          ]
        }
      ]
    },
    {
      "cell_type": "code",
      "source": [
        "num=0\n",
        "while num<10:\n",
        "  num = num+1\n",
        "  print(num)"
      ],
      "metadata": {
        "colab": {
          "base_uri": "https://localhost:8080/"
        },
        "id": "RpjwLV1fRmXi",
        "outputId": "cd9b4938-c23d-41f5-9534-a5046eaf37b4"
      },
      "execution_count": null,
      "outputs": [
        {
          "output_type": "stream",
          "name": "stdout",
          "text": [
            "1\n",
            "2\n",
            "3\n",
            "4\n",
            "5\n",
            "6\n",
            "7\n",
            "8\n",
            "9\n",
            "10\n"
          ]
        }
      ]
    },
    {
      "cell_type": "code",
      "source": [
        "for i in range(0,6):\n",
        "  print('*'*i)"
      ],
      "metadata": {
        "colab": {
          "base_uri": "https://localhost:8080/"
        },
        "id": "r_H6l9hUU26p",
        "outputId": "1d0d2412-0a61-4fbd-98a3-78725f70be31"
      },
      "execution_count": null,
      "outputs": [
        {
          "output_type": "stream",
          "name": "stdout",
          "text": [
            "\n",
            "*\n",
            "**\n",
            "***\n",
            "****\n",
            "*****\n"
          ]
        }
      ]
    },
    {
      "cell_type": "code",
      "source": [
        "\n",
        "for i in range(6,0,-1):\n",
        "  print('*'*i)\n"
      ],
      "metadata": {
        "colab": {
          "base_uri": "https://localhost:8080/"
        },
        "id": "p5n3pH-3Wawp",
        "outputId": "f2b0a59f-ed87-4466-a725-ada5a9d59e97"
      },
      "execution_count": null,
      "outputs": [
        {
          "output_type": "stream",
          "name": "stdout",
          "text": [
            "******\n",
            "*****\n",
            "****\n",
            "***\n",
            "**\n",
            "*\n"
          ]
        }
      ]
    },
    {
      "cell_type": "code",
      "source": [
        "for i in range(0,6):\n",
        "    print('*'*i)\n",
        "for i in range(6,0,-1):\n",
        "  print('*'*i)\n"
      ],
      "metadata": {
        "colab": {
          "base_uri": "https://localhost:8080/"
        },
        "id": "UzkqcTPSXQyV",
        "outputId": "5e696f12-6094-4aa3-dc08-81ec948078f7"
      },
      "execution_count": null,
      "outputs": [
        {
          "output_type": "stream",
          "name": "stdout",
          "text": [
            "\n",
            "*\n",
            "**\n",
            "***\n",
            "****\n",
            "*****\n",
            "******\n",
            "*****\n",
            "****\n",
            "***\n",
            "**\n",
            "*\n"
          ]
        }
      ]
    },
    {
      "cell_type": "code",
      "source": [
        "for i in range(1, 6):  # start from 1 to avoid empty first line\n",
        "    spaces = ' ' * (5 - i)\n",
        "    stars = '*' * (2 * i - 1)\n",
        "    print(spaces + stars)\n"
      ],
      "metadata": {
        "colab": {
          "base_uri": "https://localhost:8080/"
        },
        "id": "GwQ0jRjRYBMb",
        "outputId": "e2fc3446-7e8c-4ab4-b091-8f148b7e3586"
      },
      "execution_count": null,
      "outputs": [
        {
          "output_type": "stream",
          "name": "stdout",
          "text": [
            "    *\n",
            "   ***\n",
            "  *****\n",
            " *******\n",
            "*********\n"
          ]
        }
      ]
    },
    {
      "cell_type": "code",
      "source": [],
      "metadata": {
        "id": "SgnH1ooTfszz"
      },
      "execution_count": null,
      "outputs": []
    }
  ]
}