{
  "cells": [
    {
      "cell_type": "code",
      "execution_count": 1,
      "metadata": {
        "colab": {
          "base_uri": "https://localhost:8080/"
        },
        "id": "hAXzWAS8uA7t",
        "outputId": "962c11a6-54f0-4d84-8f2a-f4e45db99e99"
      },
      "outputs": [
        {
          "name": "stdout",
          "output_type": "stream",
          "text": [
            " The brand is BMW, Model M8, color is RED, and fuel type is Petrol\n",
            " The brand is BMW, Model M4, color is Blue, and fuel type is Petrol\n",
            " The brand is Lamborghini, Model SVJ, color is RED, and fuel type is Petrol\n",
            " The brand is porche, Model 911, color is RED, and fuel type is Petrol\n",
            " The brand is mclaren, Model 765, color is black, and fuel type is Petrol\n"
          ]
        }
      ],
      "source": [
        "class my_car:\n",
        "  def __init__(self, brand, model, color, fuel_type):\n",
        "    self.brand = brand\n",
        "    self.model = model\n",
        "    self.color = color\n",
        "    self.fuel_type = fuel_type\n",
        "\n",
        "  def show_data(self):\n",
        "    print(f\" The brand is {self.brand}, Model {self.model}, color is {self.color}, and fuel type is {self.fuel_type}\")\n",
        "\n",
        "car1 = my_car(\"BMW\", \"M8\", \"RED\", \"Petrol\")\n",
        "car2 = my_car(\"BMW\", \"M4\", \"Blue\", \"Petrol\")\n",
        "car3 = my_car(\"Lamborghini\", \"SVJ\", \"RED\", \"Petrol\")\n",
        "car4 = my_car(\"porche\", \"911\", \"RED\", \"Petrol\")\n",
        "car5 = my_car(\"mclaren\", \"765\", \"black\", \"Petrol\")\n",
        "\n",
        "car1.show_data()\n",
        "car2.show_data()\n",
        "car3.show_data()\n",
        "car4.show_data()\n",
        "car5.show_data()"
      ]
    },
    {
      "cell_type": "code",
      "execution_count": null,
      "metadata": {
        "id": "-ATJUOpr12RO"
      },
      "outputs": [],
      "source": [
        "import logging\n",
        "logging.basicConfig(level=logging.INFO,\n",
        "                    filemode='w',\n",
        "                    format='%(asctime)s - %(levelname)s - %(message)s',\n",
        "                    filename = 'model.log',force = True)\n",
        "\n",
        "\n",
        "\n",
        "class Banking:\n",
        "    def __init__(self):\n",
        "        self.balance = 10000\n",
        "        self.withdraw = float(input(\"Enter the Amount : \"))\n",
        "\n",
        "    def bal(self):\n",
        "        if self.balance <= self.withdraw:\n",
        "            print(\"Withdraw Amount is Higher\")\n",
        "        else:\n",
        "            self.balance -= self.withdraw\n",
        "\n",
        "    def show_balance(self):\n",
        "        print(f\"The Current Balance is {self.balance}\")\n",
        "\n",
        "wtdr = Banking()\n",
        "print(wtdr.bal())\n",
        "print(wtdr.show_balance())"
      ]
    },
    {
      "cell_type": "code",
      "execution_count": null,
      "metadata": {},
      "outputs": [],
      "source": [
        "# Parent Class\n",
        "\n",
        "class BankAccount:\n",
        "  def __init__(self,balance):\n",
        "    self.balance = balance\n",
        "\n",
        "\n",
        "  def show_balance(self):\n",
        "    print(f'Current Balance : {self.balance}')\n",
        "\n",
        "  def withdraw(self,amount):\n",
        "    if amount > self.balance:\n",
        "      print('Insufficient balance!')\n",
        "    else:\n",
        "      self.balance -= amount\n",
        "      print(f'{amount} withdrawn successfully')\n",
        "\n",
        "\n",
        "class SavingsAccount(BankAccount):\n",
        "  def deposit(self,amount):\n",
        "    self.balance += amount\n",
        "    print(f'{amount} deposited succefully')\n",
        "\n",
        "\n",
        "\n",
        "my_account = SavingsAccount(10000)\n",
        "\n",
        "deposit_amount = float(input('Enter Amount to deposit : '))\n",
        "my_account.deposit(deposit_amount)\n",
        "\n",
        "withdraw_amount = float(input('Enter the amount withdraw : '))\n",
        "my_account.withdraw(withdraw_amount)\n",
        "\n",
        "my_account.show_balance()\n",
        "\n"
      ]
    },
    {
      "cell_type": "code",
      "execution_count": null,
      "metadata": {},
      "outputs": [],
      "source": []
    }
  ],
  "metadata": {
    "colab": {
      "provenance": []
    },
    "kernelspec": {
      "display_name": "base",
      "language": "python",
      "name": "python3"
    },
    "language_info": {
      "codemirror_mode": {
        "name": "ipython",
        "version": 3
      },
      "file_extension": ".py",
      "mimetype": "text/x-python",
      "name": "python",
      "nbconvert_exporter": "python",
      "pygments_lexer": "ipython3",
      "version": "3.9.13"
    }
  },
  "nbformat": 4,
  "nbformat_minor": 0
}
